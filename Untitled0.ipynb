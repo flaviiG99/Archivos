{
  "nbformat": 4,
  "nbformat_minor": 0,
  "metadata": {
    "colab": {
      "name": "Untitled0.ipynb",
      "provenance": [],
      "collapsed_sections": [],
      "authorship_tag": "ABX9TyPG1BLpaIURtTokqbgJPUls",
      "include_colab_link": true
    },
    "kernelspec": {
      "name": "python3",
      "display_name": "Python 3"
    },
    "language_info": {
      "name": "python"
    }
  },
  "cells": [
    {
      "cell_type": "markdown",
      "metadata": {
        "id": "view-in-github",
        "colab_type": "text"
      },
      "source": [
        "<a href=\"https://colab.research.google.com/github/flaviiG99/Archivos/blob/main/Untitled0.ipynb\" target=\"_parent\"><img src=\"https://colab.research.google.com/assets/colab-badge.svg\" alt=\"Open In Colab\"/></a>"
      ]
    },
    {
      "cell_type": "markdown",
      "metadata": {
        "id": "HsESfbyVZZMu"
      },
      "source": [
        "**Nombre**:Flavia Nicole Cejas\n",
        "\n",
        "#*Parte 1*\n",
        "\n",
        "Enunciado asignado\n",
        "\n",
        "**Enunciado 5:**  dado el archivo de registros de jugadas (eventos) de MemPy, mostrar un gráfico con los usuarios que más veces jugaron el juego (independientemente del resultado de la partida.\n",
        "\n"
      ]
    },
    {
      "cell_type": "code",
      "metadata": {
        "id": "2gHp1Y6U9eVK"
      },
      "source": [
        "import pandas as pd\n",
        "data=pd.read_csv('datos.csv',encoding = 'ISO-8859-1')\n"
      ],
      "execution_count": 15,
      "outputs": []
    },
    {
      "cell_type": "markdown",
      "metadata": {
        "id": "4Cgz38DgHNN4"
      },
      "source": [
        "Filtro los datos del csv por cada partida que se inició.(Independientemente de si se finalizó o no).\n",
        "\n",
        "Luego elijo a los primeros 5 usuarios que más veces jugaron el juego y lo guardo en \"usuarios_top_5\""
      ]
    },
    {
      "cell_type": "code",
      "metadata": {
        "id": "bisUsJj6IHqQ"
      },
      "source": [
        "partidas = data[data[\"Nombre de evento\"]==\"inicio_partida\"]\n",
        "usuarios_top_5=partidas.groupby(\"Usuario-nick\").size().sort_values(ascending=False).head()\n",
        "usuarios_top_5"
      ],
      "execution_count": 12,
      "outputs": []
    },
    {
      "cell_type": "markdown",
      "metadata": {
        "id": "XgHaxcNIJbAn"
      },
      "source": [
        "Ahora muestro el gráfico."
      ]
    },
    {
      "cell_type": "code",
      "metadata": {
        "id": "lbETaV9dJrSo"
      },
      "source": [
        "from matplotlib import pyplot as plt\n",
        "%matplotlib inline\n",
        "usuarios_top_5.plot(kind=\"bar\",title=\"Usuarios que jugaron más veces a MemPy\")\n"
      ],
      "execution_count": 17,
      "outputs": []
    },
    {
      "cell_type": "markdown",
      "metadata": {
        "id": "jNMgF17D9eoZ"
      },
      "source": [
        "#*Parte 2*\n",
        "\n",
        "**Creterio** **elegido**\n",
        "\n",
        "Dataset:steam.csv\n",
        "\n",
        "Criterio:Juegos con mas votos netos en steam."
      ]
    },
    {
      "cell_type": "markdown",
      "metadata": {
        "id": "5bOeVVa1CgxS"
      },
      "source": [
        "Guardo en \"palabras\" la lista de palabras elegidas por el criterio."
      ]
    },
    {
      "cell_type": "code",
      "metadata": {
        "id": "U-anM2bEC1YY"
      },
      "source": [
        "palabras=['Counter-Strike: Global Offensive', 'Dota 2', 'Team Fortress 2', \"Garry's Mod\", 'Unturned', 'PAYDAY 2', 'Terraria', 'Left 4 Dead 2', 'The Elder Scrolls V: Skyrim', 'Rocket League▒', 'Warframe', 'The Witcher▒ 3: Wild Hunt', \"Tom Clancy's Rainbow Six▒ Siege\", 'Grand Theft Auto V', 'Euro Truck Simulator 2', 'Rust', 'Paladins▒', 'Portal 2', 'Borderlands 2', \"Sid Meier's Civilization▒ V\", 'Counter-Strike', 'Stardew Valley', 'Life is Strange - Episode 1', 'Doki Doki Literature Club!', \"Don't Starve Together\", 'The Forest', 'Dead by Daylight', 'Undertale', 'Arma 3', 'DARK SOULS▒ III', 'Tomb Raider', 'Subnautica', 'Insurgency', 'ARK: Survival Evolved', 'BioShock Infinite', 'Mount & Blade: Warband', 'Counter-Strike: Source', 'Dying Light', 'The Binding of Isaac: Rebirth', 'Starbound', 'Half-Life 2', 'Path of Exile', 'Fallout 4', 'Fallout: New Vegas', 'DOOM', 'War Thunder', 'Wallpaper Engine', 'Cities: Skylines', 'Brawlhalla', 'Killing Floor 2']"
      ],
      "execution_count": 18,
      "outputs": []
    },
    {
      "cell_type": "code",
      "metadata": {
        "id": "0aAnkQH7-LCi"
      },
      "source": [
        "import numpy as np\n",
        "from PIL import Image\n",
        "from wordcloud import WordCloud, STOPWORDS\n",
        "import matplotlib.pyplot as plt\n"
      ],
      "execution_count": 19,
      "outputs": []
    },
    {
      "cell_type": "markdown",
      "metadata": {
        "id": "RdBW4ve1EEym"
      },
      "source": [
        "\n",
        "Defino una función que recibe \"wordcloud\" *(parámetro que contiene los detalles del diseño de la nube de palabras)*. En dicha función también se define el tamaño de la nube.\n"
      ]
    },
    {
      "cell_type": "code",
      "metadata": {
        "id": "o32XAJLgEO0Z"
      },
      "source": [
        "def plot_cloud(wordcloud):\n",
        "  plt.figure(figsize=(20, 10))\n",
        "  plt.imshow(wordcloud)\n",
        "  plt.axis(\"off\");"
      ],
      "execution_count": 20,
      "outputs": []
    },
    {
      "cell_type": "markdown",
      "metadata": {
        "id": "grZrY97uGB9C"
      },
      "source": [
        "En \"text\" guardo las palabras organizadas para que se muestren de mejor manera. Luego invoco a la función \"plot_cloud\" definida anteriormente para mostrar la nube de palabras y le envío wordcloud con todos los parámetros asignados."
      ]
    },
    {
      "cell_type": "code",
      "metadata": {
        "id": "w2okf3BmGCsT"
      },
      "source": [
        "text = str([c.replace(' ','_') for c in palabras])\n",
        "wordcloud = WordCloud(width = 300, height = 200, random_state=1,background_color='white', colormap='Set2', collocations=False, stopwords =STOPWORDS).generate(text)\n",
        "plot_cloud(wordcloud)"
      ],
      "execution_count": 22,
      "outputs": []
    }
  ]
}